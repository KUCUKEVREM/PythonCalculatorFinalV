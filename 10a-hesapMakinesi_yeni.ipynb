{
 "cells": [
  {
   "cell_type": "code",
   "execution_count": null,
   "id": "5e316268",
   "metadata": {},
   "outputs": [
    {
     "name": "stdout",
     "output_type": "stream",
     "text": [
      "ilk numarayı giriniz: 13\n",
      "ikinci numarayı giriniz: 26\n",
      "işleminizi seçiniz: +-*//\n",
      "0.5\n",
      "ilk numarayı giriniz: 90\n",
      "ikinci numarayı giriniz: 45\n",
      "işleminizi seçiniz: +-*/+\n",
      "135\n",
      "ilk numarayı giriniz: merve\n",
      "lütfen sayıları düzgün giriniz\n",
      "ilk numarayı giriniz: 10\n",
      "ikinci numarayı giriniz: 20\n",
      "işleminizi seçiniz: +-*/everest\n",
      "lütfen yandaki işlemlerden birini seçiniz: +-*/\n"
     ]
    }
   ],
   "source": [
    "def hesapla(x,y,islem):\n",
    "    if islem not in \"+-*/\":\n",
    "        return \"lütfen yandaki işlemlerden birini seçiniz: +-*/\"\n",
    "    if islem == \"+\":\n",
    "        return x+y\n",
    "    elif islem == \"-\":\n",
    "        return x-y\n",
    "    elif islem == \"*\":\n",
    "        return x*y\n",
    "    elif islem == \"/\":\n",
    "        return x/y\n",
    "    \n",
    "while True:\n",
    "    try:\n",
    "        ilk_numara = int(input(\"ilk numarayı giriniz: \"))\n",
    "        ikinci_numara = int(input(\"ikinci numarayı giriniz: \"))\n",
    "        islem = input(\"işleminizi seçiniz: +-*/\")\n",
    "        print(hesapla(ilk_numara,ikinci_numara,islem))\n",
    "    except:\n",
    "        print(\"lütfen sayıları düzgün giriniz\")"
   ]
  },
  {
   "cell_type": "code",
   "execution_count": 2,
   "id": "912dd2d1",
   "metadata": {},
   "outputs": [
    {
     "name": "stdout",
     "output_type": "stream",
     "text": [
      "ilk numarayı giriniz: 90\n",
      "ikinci numarayı giriniz: 15\n",
      "işleminizi seçiniz: +-*/%\n",
      "lütfen yandaki işlemlerden birini seçiniz: +-*/\n",
      "sonra görüşmek üzere\n"
     ]
    }
   ],
   "source": [
    "def hesapla(x,y,islem):\n",
    "    if islem not in \"+-*/\":\n",
    "        return \"lütfen yandaki işlemlerden birini seçiniz: +-*/\"\n",
    "    if islem == \"+\":\n",
    "        return x+y\n",
    "    elif islem == \"-\":\n",
    "        return x-y\n",
    "    elif islem == \"*\":\n",
    "        return x*y\n",
    "    elif islem == \"/\":\n",
    "        return x/y\n",
    "    \n",
    "while True:\n",
    "    try:\n",
    "        ilk_numara = int(input(\"ilk numarayı giriniz: \"))\n",
    "        ikinci_numara = int(input(\"ikinci numarayı giriniz: \"))\n",
    "        islem = input(\"işleminizi seçiniz: +-*/\")\n",
    "        print(hesapla(ilk_numara,ikinci_numara,islem))\n",
    "    except:\n",
    "        print(\"lütfen sayıları düzgün giriniz\")\n",
    "    else:\n",
    "        print(\"sonra görüşmek üzere\")\n",
    "        break"
   ]
  },
  {
   "cell_type": "code",
   "execution_count": null,
   "id": "1085c769",
   "metadata": {},
   "outputs": [],
   "source": []
  }
 ],
 "metadata": {
  "kernelspec": {
   "display_name": "Python 3 (ipykernel)",
   "language": "python",
   "name": "python3"
  },
  "language_info": {
   "codemirror_mode": {
    "name": "ipython",
    "version": 3
   },
   "file_extension": ".py",
   "mimetype": "text/x-python",
   "name": "python",
   "nbconvert_exporter": "python",
   "pygments_lexer": "ipython3",
   "version": "3.9.12"
  }
 },
 "nbformat": 4,
 "nbformat_minor": 5
}
